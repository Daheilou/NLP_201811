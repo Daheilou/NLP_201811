{
  "cells": [
    {
      "metadata": {
        "_uuid": "8f2839f25d086af736a60e9eeb907d3b93b6e0e5",
        "_cell_guid": "b1076dfc-b9ad-4769-8c92-a6c4dae69d19",
        "trusted": true
      },
      "cell_type": "code",
      "source": "import tensorflow as tf\nfrom tensorflow.examples.tutorials.mnist import input_data\ntf.reset_default_graph()\n",
      "execution_count": 38,
      "outputs": []
    },
    {
      "metadata": {
        "trusted": true,
        "_uuid": "984181a403a42d807dd0172e2324a5203018ffd7"
      },
      "cell_type": "code",
      "source": "input_data",
      "execution_count": 39,
      "outputs": [
        {
          "output_type": "execute_result",
          "execution_count": 39,
          "data": {
            "text/plain": "<module 'tensorflow.examples.tutorials.mnist.input_data' from '/opt/conda/lib/python3.6/site-packages/tensorflow/examples/tutorials/mnist/input_data.py'>"
          },
          "metadata": {}
        }
      ]
    },
    {
      "metadata": {
        "_cell_guid": "79c7e3d0-c299-4dcb-8224-4455121ee9b0",
        "_uuid": "d629ff2d2480ee46fbb7e2d37f6b5fab8052498a",
        "trusted": true
      },
      "cell_type": "code",
      "source": "mnist = input_data.read_data_sets('MNIST_data', one_hot=True)",
      "execution_count": 40,
      "outputs": [
        {
          "output_type": "stream",
          "text": "Extracting MNIST_data/train-images-idx3-ubyte.gz\nExtracting MNIST_data/train-labels-idx1-ubyte.gz\nExtracting MNIST_data/t10k-images-idx3-ubyte.gz\nExtracting MNIST_data/t10k-labels-idx1-ubyte.gz\n",
          "name": "stdout"
        }
      ]
    },
    {
      "metadata": {
        "trusted": true,
        "_uuid": "d3055bd83a7dcd45a39f693065c5279ed588dd44"
      },
      "cell_type": "code",
      "source": "lr = 0.001\ntraining_iters = 100000\nbatch_size = 128",
      "execution_count": 41,
      "outputs": []
    },
    {
      "metadata": {
        "trusted": true,
        "_uuid": "899a14b54b7dc800778d48c79a1e945e7f105cf0"
      },
      "cell_type": "code",
      "source": "n_inputs = 28 # input 28 samples/sentences each time\nn_steps = 28 # each input has 28 time steps/ words\nn_hidden_units = 128\nn_classes = 10",
      "execution_count": 42,
      "outputs": []
    },
    {
      "metadata": {
        "trusted": true,
        "_uuid": "9da51d9dbe47dbc2e7b9743daa52c8f51fe5dc77"
      },
      "cell_type": "code",
      "source": "x = tf.placeholder(tf.float32, [None, n_inputs, n_steps])\ny = tf.placeholder(tf.float32, {None, n_classes})",
      "execution_count": 43,
      "outputs": []
    },
    {
      "metadata": {
        "trusted": true,
        "_uuid": "b18939bd350fbd9c79275253295f41d4aef1cf58"
      },
      "cell_type": "code",
      "source": "weights = {\n    'in': tf.Variable(tf.random_normal([n_steps, n_hidden_units])),\n    'out': tf.Variable(tf.random_normal([n_hidden_units, n_classes]))\n}\nbiases = {\n    'in': tf.Variable(tf.constant(0.1, shape=(n_hidden_units,))),\n    'out': tf.Variable(tf.constant(0.1, shape=(n_classes,)))\n}",
      "execution_count": 44,
      "outputs": []
    },
    {
      "metadata": {
        "trusted": true,
        "_uuid": "bd6b9d1de22daa8a6611bd82c3f3446b3e4b6e07"
      },
      "cell_type": "code",
      "source": "def RNN(x, weights, biases):\n    # (128batch, 28input, 28time step) -> (128*28, 28time_steps)\n    x = tf.reshape(x, [-1,n_steps])\n    x_in = tf.matmul(x, weights['in']) + biases['in']\n    x_in = tf.reshape(x_in, [-1, n_inputs, n_hidden_units])\n    \n    lstm_cell = tf.nn.rnn_cell.BasicLSTMCell(n_hidden_units, forget_bias=1.0, state_is_tuple=True)\n    # state_is_tuple (last memory, last output), c[t-1], h[t-1]\n    _init_state = lstm_cell.zero_state(batch_size, dtype=tf.float32)\n    \n    outputs, states = tf.nn.dynamic_rnn(lstm_cell, x_in, initial_state=_init_state, time_major=False, )\n    \n    results = tf.matmul(states[1], weights['out']) + biases['out']\n\n    \n    return results\n    \n    \n    ",
      "execution_count": 45,
      "outputs": []
    },
    {
      "metadata": {
        "trusted": true,
        "_uuid": "b5f1cd5e6cf01110c19206f5d055676c125aba58"
      },
      "cell_type": "code",
      "source": "",
      "execution_count": null,
      "outputs": []
    },
    {
      "metadata": {
        "trusted": true,
        "_uuid": "2d72025b40c15a750e23aa16ce9ef0fbdcb014d9"
      },
      "cell_type": "code",
      "source": "pred = RNN(x, weights, biases)\ncost = tf.reduce_mean(tf.nn.softmax_cross_entropy_with_logits(logits=pred, labels=y))\ntrain_op = tf.train.AdamOptimizer(lr).minimize(cost)\n\ncorrect_pred = tf.equal(tf.argmax(pred,1), tf.argmax(y,1))\naccuracy = tf.reduce_mean(tf.cast(correct_pred, tf.float32))\n\ninit = tf.initialize_all_variables()\nwith tf.Session() as sess:\n        \n    sess.run(init)\n    step = 0\n    while step * batch_size < training_iters:\n        batch_xs, batch_ys = mnist.train.next_batch(batch_size)\n        batch_xs = batch_xs.reshape([batch_size, n_inputs, n_steps])\n        sess.run(train_op, feed_dict={x:batch_xs, y:batch_ys})\n        if step % 20 ==0:\n            print(sess.run(accuracy, feed_dict={x:batch_xs, y:batch_ys}))\n        step += 1",
      "execution_count": 46,
      "outputs": [
        {
          "output_type": "stream",
          "text": "0.1015625\n0.7734375\n0.8125\n0.828125\n0.8359375\n0.859375\n0.8046875\n0.859375\n0.8671875\n0.890625\n0.8984375\n0.9140625\n0.9296875\n0.8984375\n0.90625\n0.9453125\n0.9296875\n0.953125\n0.9453125\n0.921875\n0.9375\n0.9296875\n0.953125\n0.953125\n0.96875\n0.9765625\n0.9765625\n0.9609375\n0.96875\n0.96875\n0.9609375\n0.9921875\n0.9609375\n0.984375\n0.9765625\n0.96875\n0.9765625\n0.9609375\n0.9921875\n0.9765625\n",
          "name": "stdout"
        }
      ]
    },
    {
      "metadata": {
        "trusted": true,
        "_uuid": "12c221e867e8431d19b25ca08cd99026c5de27da"
      },
      "cell_type": "code",
      "source": "",
      "execution_count": null,
      "outputs": []
    },
    {
      "metadata": {
        "trusted": true,
        "_uuid": "128f0c22aa23a6e8fe0a54ab545c95ab2ee9d3e2"
      },
      "cell_type": "code",
      "source": "",
      "execution_count": null,
      "outputs": []
    },
    {
      "metadata": {
        "trusted": true,
        "_uuid": "9b90d0e3205cf66204c33f04de5d4bad9933b8c2"
      },
      "cell_type": "code",
      "source": "",
      "execution_count": null,
      "outputs": []
    },
    {
      "metadata": {
        "trusted": true,
        "_uuid": "a3a72fd2d356dc22c92a59f60f3f7e0eec0ccbdf"
      },
      "cell_type": "code",
      "source": "",
      "execution_count": null,
      "outputs": []
    },
    {
      "metadata": {
        "trusted": true,
        "_uuid": "befa228b939f6a98d57f71349f90fa443589c336"
      },
      "cell_type": "code",
      "source": "",
      "execution_count": null,
      "outputs": []
    },
    {
      "metadata": {
        "trusted": true,
        "_uuid": "0390d025d906e66926e102db65ccb77078720d0a"
      },
      "cell_type": "code",
      "source": "",
      "execution_count": null,
      "outputs": []
    },
    {
      "metadata": {
        "trusted": true,
        "_uuid": "4472db2dbf374629fa977bae74decc0700cf0086"
      },
      "cell_type": "code",
      "source": "",
      "execution_count": null,
      "outputs": []
    },
    {
      "metadata": {
        "trusted": true,
        "_uuid": "a1ebf9003a6e12527e4b2493c4f9bdd2ae7bc59d"
      },
      "cell_type": "code",
      "source": "",
      "execution_count": null,
      "outputs": []
    },
    {
      "metadata": {
        "trusted": true,
        "_uuid": "ff267957631a5a0eab5c3ba4afd5bfb25536b3e8"
      },
      "cell_type": "code",
      "source": "",
      "execution_count": null,
      "outputs": []
    },
    {
      "metadata": {
        "trusted": true,
        "_uuid": "90bc5a092fc45e6a7892bcb9050f93101854e11e"
      },
      "cell_type": "code",
      "source": "",
      "execution_count": null,
      "outputs": []
    },
    {
      "metadata": {
        "trusted": true,
        "_uuid": "98c553ca1c7e2b6d8b0753f3ae00a58be846999a"
      },
      "cell_type": "code",
      "source": "",
      "execution_count": null,
      "outputs": []
    },
    {
      "metadata": {
        "trusted": true,
        "_uuid": "c1b2c3b0eaa1da31c39bdc60158587ca8b94a3ed"
      },
      "cell_type": "code",
      "source": "",
      "execution_count": null,
      "outputs": []
    }
  ],
  "metadata": {
    "kernelspec": {
      "display_name": "Python 3",
      "language": "python",
      "name": "python3"
    },
    "language_info": {
      "name": "python",
      "version": "3.6.6",
      "mimetype": "text/x-python",
      "codemirror_mode": {
        "name": "ipython",
        "version": 3
      },
      "pygments_lexer": "ipython3",
      "nbconvert_exporter": "python",
      "file_extension": ".py"
    }
  },
  "nbformat": 4,
  "nbformat_minor": 1
}